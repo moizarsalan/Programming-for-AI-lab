{
  "nbformat": 4,
  "nbformat_minor": 0,
  "metadata": {
    "colab": {
      "provenance": [],
      "authorship_tag": "ABX9TyNmEBAMUN6OjgeyKeB7gewH",
      "include_colab_link": true
    },
    "kernelspec": {
      "name": "python3",
      "display_name": "Python 3"
    },
    "language_info": {
      "name": "python"
    }
  },
  "cells": [
    {
      "cell_type": "markdown",
      "metadata": {
        "id": "view-in-github",
        "colab_type": "text"
      },
      "source": [
        "<a href=\"https://colab.research.google.com/github/moizarsalan/Programming-for-AI-lab/blob/Programming-for-AI-Lab-Tasks/Lab_09.ipynb\" target=\"_parent\"><img src=\"https://colab.research.google.com/assets/colab-badge.svg\" alt=\"Open In Colab\"/></a>"
      ]
    },
    {
      "cell_type": "markdown",
      "source": [
        "# **Lab 09**\n",
        "**Function In Python**\n",
        "\n",
        "Fucntion are blocks of organized code that can be reused by calling them when needed\n",
        "\n",
        "**Defining the Function**\n",
        "\n",
        "Function are defined using the keyword \"def\" keyword is followed by the name of function parenthesis at the end\n",
        "\n",
        "**Syntax**\n",
        "\n",
        "               def name():"
      ],
      "metadata": {
        "id": "H2Iv1n33XkSV"
      }
    },
    {
      "cell_type": "code",
      "execution_count": null,
      "metadata": {
        "colab": {
          "base_uri": "https://localhost:8080/"
        },
        "id": "0f9hBUSINL2s",
        "outputId": "b4cad74d-19b1-4132-b71b-416c0212a1a8"
      },
      "outputs": [
        {
          "output_type": "stream",
          "name": "stdout",
          "text": [
            "Abdul Moiz Arsalan\n"
          ]
        }
      ],
      "source": [
        "def my_name():\n",
        "  name = \"Abdul Moiz Arsalan\"\n",
        "  print(name)\n",
        "\n",
        "my_name()"
      ]
    },
    {
      "cell_type": "markdown",
      "source": [
        "**Passing Parameters in Function**"
      ],
      "metadata": {
        "id": "bEpakv_yY32J"
      }
    },
    {
      "cell_type": "code",
      "source": [
        "def my_name (name):\n",
        "\n",
        "    print(\"My name is: \" ,name)\n",
        "\n",
        "name = input (\"Enter you Name: \")\n",
        "my_name(name)"
      ],
      "metadata": {
        "colab": {
          "base_uri": "https://localhost:8080/"
        },
        "id": "Vp7rmhncPGHq",
        "outputId": "8750d987-b46f-4fce-e2c8-ce6c83d4ba92"
      },
      "execution_count": 5,
      "outputs": [
        {
          "output_type": "stream",
          "name": "stdout",
          "text": [
            "Enter you Name: moiz\n",
            "My name is:  moiz\n"
          ]
        }
      ]
    },
    {
      "cell_type": "markdown",
      "source": [
        "**Arguments in Function**"
      ],
      "metadata": {
        "id": "AmhiUnSSY-LR"
      }
    },
    {
      "cell_type": "code",
      "source": [
        "def AMA (name, age,):\n",
        "  print (\"\\n \\nEnter you name: \", name , \"\\nEnter you id: \", age)\n",
        "\n",
        "name  = input (\"Enter you name: \")\n",
        "age = input (\"Enter you age: \")\n",
        "\n",
        "AMA (name, age)"
      ],
      "metadata": {
        "id": "cKUqXzHZcTGA",
        "outputId": "88c2c6cb-46da-4d87-9f44-aab99cef751f",
        "colab": {
          "base_uri": "https://localhost:8080/"
        }
      },
      "execution_count": 11,
      "outputs": [
        {
          "output_type": "stream",
          "name": "stdout",
          "text": [
            "Enter you name: Abdul Moiz Arsalan\n",
            "Enter you age: 20\n",
            "\n",
            " \n",
            "Enter you name:  Abdul Moiz Arsalan \n",
            "Enter you id:  20\n"
          ]
        }
      ]
    },
    {
      "cell_type": "code",
      "source": [
        "def AMA (name, age, id, Program):\n",
        "  print (\"\\n \\nEnter you name: \", name , \"\\nEnter you id: \", age, \"\\nEnter your id: \", id, \"\\nEnter you Program: \", Program)\n",
        "\n",
        "name  = input (\"Enter you name: \")\n",
        "age = input (\"Enter you age: \")\n",
        "id = input (\"Enter you id: \")\n",
        "Program = input (\"Enter you Program: \")\n",
        "AMA (name, age, id, Program)\n"
      ],
      "metadata": {
        "colab": {
          "base_uri": "https://localhost:8080/"
        },
        "id": "_jQTfNsoY9t2",
        "outputId": "f6fa4363-d596-4279-d8b2-e69defe6f93d"
      },
      "execution_count": 10,
      "outputs": [
        {
          "output_type": "stream",
          "name": "stdout",
          "text": [
            "Enter you name: Abdul Moiz Arsalan\n",
            "Enter you age: 20\n",
            "Enter you id: B22F1086AI072\n",
            "Enter you Program: Artificial Intelligence\n",
            "\n",
            " \n",
            "Enter you name:  Abdul Moiz Arsalan \n",
            "Enter you id:  20 \n",
            "Enter your id:  B22F1086AI072 \n",
            "Enter you Program:  Artificial Intelligence\n"
          ]
        }
      ]
    }
  ]
}