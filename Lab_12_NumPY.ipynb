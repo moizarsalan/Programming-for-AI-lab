{
  "nbformat": 4,
  "nbformat_minor": 0,
  "metadata": {
    "colab": {
      "provenance": [],
      "authorship_tag": "ABX9TyOwcl7YTncCEcvjiQ+RW8ku",
      "include_colab_link": true
    },
    "kernelspec": {
      "name": "python3",
      "display_name": "Python 3"
    },
    "language_info": {
      "name": "python"
    }
  },
  "cells": [
    {
      "cell_type": "markdown",
      "metadata": {
        "id": "view-in-github",
        "colab_type": "text"
      },
      "source": [
        "<a href=\"https://colab.research.google.com/github/moizarsalan/Programming-for-AI-lab/blob/Programming-for-AI-Lab-Tasks/Lab_12_NumPY.ipynb\" target=\"_parent\"><img src=\"https://colab.research.google.com/assets/colab-badge.svg\" alt=\"Open In Colab\"/></a>"
      ]
    },
    {
      "cell_type": "markdown",
      "source": [
        "# **Lab 12**\n",
        "\n",
        "**Working with NumPY**\n",
        "\n",
        "**Lab Task 01**\n",
        "\n",
        "**Creating NumPY Arrays**"
      ],
      "metadata": {
        "id": "itvXXiStwGvJ"
      }
    },
    {
      "cell_type": "code",
      "execution_count": 1,
      "metadata": {
        "colab": {
          "base_uri": "https://localhost:8080/"
        },
        "id": "wbcl3K5Nv49F",
        "outputId": "d65670a3-737f-4a40-8034-8ec3450b237f"
      },
      "outputs": [
        {
          "output_type": "stream",
          "name": "stdout",
          "text": [
            "[ 0  1  2  3  4  5  6  7  8  9 10]\n"
          ]
        }
      ],
      "source": [
        "import numpy as np\n",
        "my_list = [0,1,2,3,4,5,6,7,8,9,10]\n",
        "nparr = np.array(my_list)\n",
        "print(nparr)"
      ]
    },
    {
      "cell_type": "markdown",
      "source": [
        "**Lab Task 02**\n",
        "\n",
        "**Form Built-in Method**"
      ],
      "metadata": {
        "id": "-W5RlgTIw3Nc"
      }
    },
    {
      "cell_type": "code",
      "source": [
        "arr=np.arange(0,11)\n",
        "print(arr)"
      ],
      "metadata": {
        "colab": {
          "base_uri": "https://localhost:8080/"
        },
        "id": "6y9Wkdh5xBn7",
        "outputId": "5a063040-7c9d-4dc6-ac31-096c005b2983"
      },
      "execution_count": 2,
      "outputs": [
        {
          "output_type": "stream",
          "name": "stdout",
          "text": [
            "[ 0  1  2  3  4  5  6  7  8  9 10]\n"
          ]
        }
      ]
    },
    {
      "cell_type": "markdown",
      "source": [
        "**Lab Task 03**\n",
        "\n",
        "**Universal Functions**\n",
        "\n",
        "We can perform arithmatic operations using universal functions.\n",
        "\n",
        "\n",
        "\n",
        "1.   Addition\n",
        "2.   Subtraction\n",
        "1.   Multiplication\n",
        "2.   Division"
      ],
      "metadata": {
        "id": "1Oqwkq40xFac"
      }
    },
    {
      "cell_type": "code",
      "source": [
        "#Adding Arrays\n",
        "nparr_added = nparr + nparr\n",
        "print(\"\\nAddition\")\n",
        "print(nparr_added)\n",
        "\n",
        "#Subtracting Arrays\n",
        "nparr_sub= nparr - nparr\n",
        "print(\"\\nSubtraction\")\n",
        "print(nparr_sub)\n",
        "\n",
        "#Multiplying Arrays\n",
        "nparr_mul= nparr * nparr\n",
        "print(\"\\nMultiplication\")\n",
        "print(nparr_mul)\n",
        "\n",
        "#Dividing Arrays\n",
        "nparr_div= nparr / nparr\n",
        "print(\"\\nDivision\")\n",
        "print(nparr_div)"
      ],
      "metadata": {
        "colab": {
          "base_uri": "https://localhost:8080/"
        },
        "id": "FozGsImhxUPE",
        "outputId": "22a564c2-4f6f-4033-d476-1a6c0e4a6010"
      },
      "execution_count": 6,
      "outputs": [
        {
          "output_type": "stream",
          "name": "stdout",
          "text": [
            "\n",
            "Addition\n",
            "[ 0  2  4  6  8 10 12 14 16 18 20]\n",
            "\n",
            "Subtraction\n",
            "[0 0 0 0 0 0 0 0 0 0 0]\n",
            "\n",
            "Multiplication\n",
            "[  0   1   4   9  16  25  36  49  64  81 100]\n",
            "\n",
            "Division\n",
            "[nan  1.  1.  1.  1.  1.  1.  1.  1.  1.  1.]\n"
          ]
        },
        {
          "output_type": "stream",
          "name": "stderr",
          "text": [
            "<ipython-input-6-b8d6258c5ed6>:17: RuntimeWarning: invalid value encountered in divide\n",
            "  nparr_div= nparr / nparr\n"
          ]
        }
      ]
    },
    {
      "cell_type": "markdown",
      "source": [
        "**Following Operations can also be performed**\n",
        "\n",
        "\n",
        "\n",
        "1.   Multiply by Scalers\n",
        "2.   One divided by zero\n",
        "1.   EXPONENT — ARRAYS — Squaring everything — Two options\n",
        "2.   Square Root\n",
        "1.   Exponential with arrays\n",
        "2.   Max & Min\n",
        "1.   TRIGONOMETRIC FUNCTIONS — Passing every element into sine function\n",
        "2.   LOGARITHMIC — Note: the very first one is minus infinity\n",
        "\n",
        "\n",
        "\n",
        "\n",
        "\n",
        "\n",
        "\n",
        "\n",
        "\n",
        "\n"
      ],
      "metadata": {
        "id": "be1wuq8vyLHT"
      }
    },
    {
      "cell_type": "markdown",
      "source": [
        "## **1. Multiplying By Scalers**"
      ],
      "metadata": {
        "id": "yv6PgwiB2gXA"
      }
    },
    {
      "cell_type": "code",
      "source": [
        "nparr_esc = nparr * 10\n",
        "print(nparr_esc)"
      ],
      "metadata": {
        "colab": {
          "base_uri": "https://localhost:8080/"
        },
        "id": "p-Lx7vsFyZTN",
        "outputId": "0d817a29-9968-432c-c89b-fbea4664979b"
      },
      "execution_count": 7,
      "outputs": [
        {
          "output_type": "stream",
          "name": "stdout",
          "text": [
            "[  0  10  20  30  40  50  60  70  80  90 100]\n"
          ]
        }
      ]
    },
    {
      "cell_type": "markdown",
      "source": [
        "# **2. One Divided by Zero**"
      ],
      "metadata": {
        "id": "L6mR92ZJ2lVq"
      }
    },
    {
      "cell_type": "code",
      "source": [
        "# inf signifies infinity for one divided\n",
        "# by zero at the very first element\n",
        "nparr_one_div = 1/nparr\n",
        "print(nparr_one_div)"
      ],
      "metadata": {
        "colab": {
          "base_uri": "https://localhost:8080/"
        },
        "id": "p49czO342ri2",
        "outputId": "54aa6329-09ce-4b29-c3d8-26d1e2f4a4a5"
      },
      "execution_count": 8,
      "outputs": [
        {
          "output_type": "stream",
          "name": "stdout",
          "text": [
            "[       inf 1.         0.5        0.33333333 0.25       0.2\n",
            " 0.16666667 0.14285714 0.125      0.11111111 0.1       ]\n"
          ]
        },
        {
          "output_type": "stream",
          "name": "stderr",
          "text": [
            "<ipython-input-8-ba66c1bd8c7d>:3: RuntimeWarning: divide by zero encountered in divide\n",
            "  nparr_one_div = 1/nparr\n"
          ]
        }
      ]
    },
    {
      "cell_type": "markdown",
      "source": [
        "# **3.   EXPONENT — ARRAYS — Squaring everything — Two options**"
      ],
      "metadata": {
        "id": "ssTJJuzW20Ah"
      }
    },
    {
      "cell_type": "code",
      "source": [
        "np_arr_exp1 = nparr ** 2\n",
        "print(np_arr_exp1)\n",
        "np_arr_exp2 = np.square(nparr)\n",
        "print(np_arr_exp2)"
      ],
      "metadata": {
        "id": "JpNssSTS26gi"
      },
      "execution_count": null,
      "outputs": []
    },
    {
      "cell_type": "markdown",
      "source": [
        "# **4. Square Root**"
      ],
      "metadata": {
        "id": "QEYO6gWn290b"
      }
    },
    {
      "cell_type": "code",
      "source": [
        "nparr_sr = np.sqrt(nparr)\n",
        "print(nparr_sr)"
      ],
      "metadata": {
        "colab": {
          "base_uri": "https://localhost:8080/"
        },
        "id": "In4SWg-W3Cxk",
        "outputId": "c1464390-d74e-445b-d51d-8cdbc95bc090"
      },
      "execution_count": 9,
      "outputs": [
        {
          "output_type": "stream",
          "name": "stdout",
          "text": [
            "[0.         1.         1.41421356 1.73205081 2.         2.23606798\n",
            " 2.44948974 2.64575131 2.82842712 3.         3.16227766]\n"
          ]
        }
      ]
    },
    {
      "cell_type": "markdown",
      "source": [
        "# **5. Exponential with arrays**"
      ],
      "metadata": {
        "id": "KIEsJvu23I5z"
      }
    },
    {
      "cell_type": "code",
      "source": [
        "np_arr_exp3 = np.exp(nparr)\n",
        "print(np_arr_exp3)"
      ],
      "metadata": {
        "colab": {
          "base_uri": "https://localhost:8080/"
        },
        "id": "1KRGtnw93SRx",
        "outputId": "54bc15fa-6fe6-45b2-f614-5be77009164f"
      },
      "execution_count": 10,
      "outputs": [
        {
          "output_type": "stream",
          "name": "stdout",
          "text": [
            "[1.00000000e+00 2.71828183e+00 7.38905610e+00 2.00855369e+01\n",
            " 5.45981500e+01 1.48413159e+02 4.03428793e+02 1.09663316e+03\n",
            " 2.98095799e+03 8.10308393e+03 2.20264658e+04]\n"
          ]
        }
      ]
    },
    {
      "cell_type": "markdown",
      "source": [
        "# **6. Max & Min**"
      ],
      "metadata": {
        "id": "H0QkGdYH3Xt6"
      }
    },
    {
      "cell_type": "code",
      "source": [
        "#Max\n",
        "nparr_max = np.max(arr)\n",
        "print(nparr_max)\n",
        "\n",
        "#Min\n",
        "nparr_min = np.min(arr)\n",
        "print(nparr_min)"
      ],
      "metadata": {
        "colab": {
          "base_uri": "https://localhost:8080/"
        },
        "id": "K9DmVjys3cFa",
        "outputId": "097874b4-d75b-43a7-c0c8-32316c85a4c8"
      },
      "execution_count": 11,
      "outputs": [
        {
          "output_type": "stream",
          "name": "stdout",
          "text": [
            "10\n",
            "0\n"
          ]
        }
      ]
    },
    {
      "cell_type": "markdown",
      "source": [
        "# **7. TRIGONOMETRIC FUNCTIONS — Passing every element into sine function**"
      ],
      "metadata": {
        "id": "Qvf_WKDx3kaC"
      }
    },
    {
      "cell_type": "code",
      "source": [
        "nparr_sin = np.sin(nparr)\n",
        "print(nparr_sin)"
      ],
      "metadata": {
        "colab": {
          "base_uri": "https://localhost:8080/"
        },
        "id": "5JXIOXJx3qzj",
        "outputId": "1fbd3ff0-03d8-4e39-bc81-efe8ef604de8"
      },
      "execution_count": 12,
      "outputs": [
        {
          "output_type": "stream",
          "name": "stdout",
          "text": [
            "[ 0.          0.84147098  0.90929743  0.14112001 -0.7568025  -0.95892427\n",
            " -0.2794155   0.6569866   0.98935825  0.41211849 -0.54402111]\n"
          ]
        }
      ]
    },
    {
      "cell_type": "markdown",
      "source": [
        "# **8. LOGARITHMIC — Note: the very first one is minus infinity**"
      ],
      "metadata": {
        "id": "nUZQLp5P3zru"
      }
    },
    {
      "cell_type": "code",
      "source": [
        "nparr_log = np.log(nparr)\n",
        "print(nparr_log)"
      ],
      "metadata": {
        "colab": {
          "base_uri": "https://localhost:8080/"
        },
        "id": "apvF_zpJ3374",
        "outputId": "08e59e8e-c91e-4dcb-d68b-8d310843218f"
      },
      "execution_count": 13,
      "outputs": [
        {
          "output_type": "stream",
          "name": "stdout",
          "text": [
            "[      -inf 0.         0.69314718 1.09861229 1.38629436 1.60943791\n",
            " 1.79175947 1.94591015 2.07944154 2.19722458 2.30258509]\n"
          ]
        },
        {
          "output_type": "stream",
          "name": "stderr",
          "text": [
            "<ipython-input-13-e7c9468d2519>:1: RuntimeWarning: divide by zero encountered in log\n",
            "  nparr_log = np.log(nparr)\n"
          ]
        }
      ]
    }
  ]
}