{
  "cells": [
    {
      "cell_type": "markdown",
      "metadata": {
        "id": "view-in-github",
        "colab_type": "text"
      },
      "source": [
        "<a href=\"https://colab.research.google.com/github/moizarsalan/Programming-for-AI-lab/blob/Programming-for-AI-Lab-Tasks/Lab_06_Syntax_Error.ipynb\" target=\"_parent\"><img src=\"https://colab.research.google.com/assets/colab-badge.svg\" alt=\"Open In Colab\"/></a>"
      ]
    },
    {
      "cell_type": "markdown",
      "source": [
        "# **Lab: 06**\n",
        "\n",
        "**Syntax Error**"
      ],
      "metadata": {
        "id": "7_sMA7isWdOx"
      }
    },
    {
      "cell_type": "markdown",
      "source": [
        "# **Missing Colon in Function Definition:**"
      ],
      "metadata": {
        "id": "4EJB9CdmWrEa"
      }
    },
    {
      "cell_type": "code",
      "execution_count": 1,
      "metadata": {
        "colab": {
          "base_uri": "https://localhost:8080/",
          "height": 106
        },
        "id": "0f9hBUSINL2s",
        "outputId": "5eedb487-ac36-42be-ec56-62bac31e1176"
      },
      "outputs": [
        {
          "output_type": "error",
          "ename": "SyntaxError",
          "evalue": "expected ':' (<ipython-input-1-def17337f17d>, line 1)",
          "traceback": [
            "\u001b[0;36m  File \u001b[0;32m\"<ipython-input-1-def17337f17d>\"\u001b[0;36m, line \u001b[0;32m1\u001b[0m\n\u001b[0;31m    def greet(name)\u001b[0m\n\u001b[0m                   ^\u001b[0m\n\u001b[0;31mSyntaxError\u001b[0m\u001b[0;31m:\u001b[0m expected ':'\n"
          ]
        }
      ],
      "source": [
        "def greet(name)\n",
        "    print(f\"Hello, {name}!\")\n",
        "\n",
        "greet(\"Alice\")\n"
      ]
    },
    {
      "cell_type": "markdown",
      "source": [
        "# **Incorrect Indentation:**\n",
        "\n"
      ],
      "metadata": {
        "id": "AAXcsOLqWxmv"
      }
    },
    {
      "cell_type": "code",
      "source": [
        "for i in range(5):\n",
        "print(i)\n"
      ],
      "metadata": {
        "colab": {
          "base_uri": "https://localhost:8080/",
          "height": 106
        },
        "id": "g3AL96iFW1pK",
        "outputId": "aae5b299-98a5-42cc-c32f-db569476dcab"
      },
      "execution_count": 2,
      "outputs": [
        {
          "output_type": "error",
          "ename": "IndentationError",
          "evalue": "expected an indented block after 'for' statement on line 1 (<ipython-input-2-ff840fecd491>, line 2)",
          "traceback": [
            "\u001b[0;36m  File \u001b[0;32m\"<ipython-input-2-ff840fecd491>\"\u001b[0;36m, line \u001b[0;32m2\u001b[0m\n\u001b[0;31m    print(i)\u001b[0m\n\u001b[0m    ^\u001b[0m\n\u001b[0;31mIndentationError\u001b[0m\u001b[0;31m:\u001b[0m expected an indented block after 'for' statement on line 1\n"
          ]
        }
      ]
    },
    {
      "cell_type": "markdown",
      "source": [
        "# **Unclosed Parenthesis:**\n",
        "\n"
      ],
      "metadata": {
        "id": "lvDPKrBJW4D-"
      }
    },
    {
      "cell_type": "code",
      "source": [
        "numbers = [1, 2, 3, 4, 5\n",
        "total = sum(numbers)\n",
        "print(total)"
      ],
      "metadata": {
        "colab": {
          "base_uri": "https://localhost:8080/",
          "height": 106
        },
        "id": "P4wDCUN3XCeV",
        "outputId": "aacd3d5b-7672-4d59-9cb3-4e65d6b8159f"
      },
      "execution_count": 3,
      "outputs": [
        {
          "output_type": "error",
          "ename": "SyntaxError",
          "evalue": "'[' was never closed (<ipython-input-3-82831cdd0ca5>, line 1)",
          "traceback": [
            "\u001b[0;36m  File \u001b[0;32m\"<ipython-input-3-82831cdd0ca5>\"\u001b[0;36m, line \u001b[0;32m1\u001b[0m\n\u001b[0;31m    numbers = [1, 2, 3, 4, 5\u001b[0m\n\u001b[0m              ^\u001b[0m\n\u001b[0;31mSyntaxError\u001b[0m\u001b[0;31m:\u001b[0m '[' was never closed\n"
          ]
        }
      ]
    },
    {
      "cell_type": "markdown",
      "source": [
        "# **Invalid Variable Name:**"
      ],
      "metadata": {
        "id": "YTlIzeqxXD2M"
      }
    },
    {
      "cell_type": "code",
      "source": [
        "1st_place = \"John\"\n",
        "print(1st_place)\n"
      ],
      "metadata": {
        "colab": {
          "base_uri": "https://localhost:8080/",
          "height": 106
        },
        "id": "7fEOT0NPXGyC",
        "outputId": "28712df1-c348-4751-cdb4-d8b7b62a18de"
      },
      "execution_count": 4,
      "outputs": [
        {
          "output_type": "error",
          "ename": "SyntaxError",
          "evalue": "invalid decimal literal (<ipython-input-4-cd852829b213>, line 1)",
          "traceback": [
            "\u001b[0;36m  File \u001b[0;32m\"<ipython-input-4-cd852829b213>\"\u001b[0;36m, line \u001b[0;32m1\u001b[0m\n\u001b[0;31m    1st_place = \"John\"\u001b[0m\n\u001b[0m    ^\u001b[0m\n\u001b[0;31mSyntaxError\u001b[0m\u001b[0;31m:\u001b[0m invalid decimal literal\n"
          ]
        }
      ]
    }
  ],
  "metadata": {
    "colab": {
      "provenance": [],
      "authorship_tag": "ABX9TyMmjSx6cL/NTu+pRFB8FJWi",
      "include_colab_link": true
    },
    "kernelspec": {
      "display_name": "Python 3",
      "name": "python3"
    },
    "language_info": {
      "name": "python"
    }
  },
  "nbformat": 4,
  "nbformat_minor": 0
}