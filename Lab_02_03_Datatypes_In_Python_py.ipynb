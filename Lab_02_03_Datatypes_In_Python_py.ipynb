{
  "nbformat": 4,
  "nbformat_minor": 0,
  "metadata": {
    "colab": {
      "provenance": [],
      "authorship_tag": "ABX9TyMWsYFKx4xTrQKgxWpQkM+1",
      "include_colab_link": true
    },
    "kernelspec": {
      "name": "python3",
      "display_name": "Python 3"
    },
    "language_info": {
      "name": "python"
    }
  },
  "cells": [
    {
      "cell_type": "markdown",
      "metadata": {
        "id": "view-in-github",
        "colab_type": "text"
      },
      "source": [
        "<a href=\"https://colab.research.google.com/github/moizarsalan/Programming-for-AI-lab/blob/main/Lab_02_03_Datatypes_In_Python_py.ipynb\" target=\"_parent\"><img src=\"https://colab.research.google.com/assets/colab-badge.svg\" alt=\"Open In Colab\"/></a>"
      ]
    },
    {
      "cell_type": "markdown",
      "source": [
        "**Lab 02/03**\n",
        "\n",
        "**Programming for AI**\n",
        "\n",
        "  **Introduction to DataTypes in Python**\n",
        "\n",
        "**Lab Objectives:**\n",
        "\n",
        "*   Printing Data Types of Variable\n",
        "*   Variable Type Casting\n",
        "*   Accessing real and Imaginary part in Complex numbers\n",
        "*   Assigning multiple strings to a single variable\n",
        "*   String Slicing\n",
        "*   Lenght of a string\n",
        "*   Accessing character of strings using negative indexing\n",
        "*   String Formatting\n",
        "*   Taking Runtime input from user"
      ],
      "metadata": {
        "id": "_UC8ztB492wi"
      }
    },
    {
      "cell_type": "markdown",
      "source": [
        "Task 01\n",
        "\n",
        " **Print atleast five examples of each datatype of the following**\n",
        "\n",
        "\n",
        "1.   Integer: Used for integer value + -\n",
        "2.   Float:   Used for decimal values\n",
        "3.   Complex: Used for complex numbers\n",
        "\n"
      ],
      "metadata": {
        "id": "z6kHxVBv5ovg"
      }
    },
    {
      "cell_type": "code",
      "execution_count": null,
      "metadata": {
        "colab": {
          "base_uri": "https://localhost:8080/"
        },
        "id": "2R9SdfHg3--I",
        "outputId": "06bc7656-e263-4c55-e1dd-40f4f538fa6a"
      },
      "outputs": [
        {
          "output_type": "stream",
          "name": "stdout",
          "text": [
            "<class 'int'>\n",
            "<class 'int'>\n",
            "<class 'int'>\n",
            "<class 'int'>\n",
            "<class 'int'>\n",
            "<class 'int'>\n",
            "<class 'float'>\n",
            "<class 'float'>\n",
            "<class 'float'>\n",
            "<class 'float'>\n",
            "<class 'float'>\n",
            "<class 'complex'>\n",
            "<class 'complex'>\n",
            "<class 'complex'>\n",
            "<class 'complex'>\n",
            "<class 'complex'>\n"
          ]
        }
      ],
      "source": [
        "#Interger Datatype\n",
        "a = (1) #assigning values\n",
        "b = (2) #assigning values\n",
        "c = (3) #assigning values\n",
        "e = (4) #assigning values\n",
        "f = (5) #assigning values\n",
        "\n",
        "#Float Data Type\n",
        "g = (1.1) #assigning values\n",
        "h = (1.2) #assigning values\n",
        "i = (1.3) #assigning values\n",
        "j = (1.4) #assigning values\n",
        "k = (1.5) #assigning values\n",
        "\n",
        "#Complex Data Type\n",
        "l = (1j) #assigning values\n",
        "m = (2j) #assigning values\n",
        "n = (2 + 3j) #assigning values\n",
        "o = (4j) #assigning values\n",
        "p = (9 + 5j) #assigning values\n",
        "\n",
        "#Printing Integer Datatype\n",
        "print(type(a))\n",
        "print(type(b))\n",
        "print(type(c))\n",
        "print(type(d))\n",
        "print(type(e))\n",
        "print(type(f))\n",
        "\n",
        "#Printing Float Datatype\n",
        "print(type(g))\n",
        "print(type(h))\n",
        "print(type(i))\n",
        "print(type(j))\n",
        "print(type(k))\n",
        "\n",
        "#Printing Complex Data Type\n",
        "print(type(l))\n",
        "print(type(m))\n",
        "print(type(n))\n",
        "print(type(o))\n",
        "print(type(p))"
      ]
    },
    {
      "cell_type": "markdown",
      "source": [
        "**Task 02**\n",
        "\n",
        "**Variable Type Casting**\n",
        "\n",
        "\n",
        "*   Variable Type casting mean converting datatype to another like from integer to float.\n",
        "* **Syntax**\n",
        "\n",
        "           *vriable_Name = data_type(assign_value)*\n",
        "\n",
        "The Type of casting of complex numbers is not possible it will show errors but we can access real and imaginary part of complex numbers using following syntax\n",
        "\n",
        "*variable_name.real* and *variable_name.imag*\n",
        "\n",
        "The real life example of of accessing complex numbers is;\n",
        "\n",
        "**Electrical Engineering:**\n",
        "\n",
        "In bold text AC (alternating current) circuit analysis, complex numbers are used to represent impedance, which combines resistance and reactance. The impedance of a circuit element can be represented as a complex number, where the real part represents resistance and the imaginary part represents reactance.\n",
        "\n",
        "Here is a code or python script for this example\n",
        "\n",
        "                 # Impedance of a circuit with resistance R and inductance L\n",
        "                   R = 10  # Resistance in ohms\n",
        "                   L = 5   # Inductance in henries\n",
        "                   impedance = R + 1j * (2 * 3.14 * 60) * L  # 60 Hz AC frequency\n",
        "                   print(\"Impedance:\", impedance)\n",
        "\n",
        "                   real_part = impedance.real\n",
        "                   imaginary_part = impedance.imag\n",
        "\n",
        "                   print(\"Real part:\", real_part)\n",
        "                   print(\"Imaginary part:\", imaginary_part)\n",
        "**Output:**\n",
        "\n",
        "                   impedance = 10 + 1j * 1880\n",
        "                   Real part: 10.0\n",
        "                   Imaginary part: 1884.0\n"
      ],
      "metadata": {
        "id": "ZZQXD06G_Ktv"
      }
    },
    {
      "cell_type": "code",
      "source": [
        "a = float (1) #assigning values\n",
        "b = float(2) #assigning values\n",
        "c = float(3) #assigning values\n",
        "\n",
        "#Float Data Type\n",
        "g = int(1.1) #assigning values\n",
        "h = int(1.2) #assigning values\n",
        "i = int(1.3) #assigning values\n",
        "\n",
        "#Complex Data Type\n",
        "# l = flaot(1j) #Type casting of complex numbers is not possible\n",
        "# m = int(2j)\n",
        "n = (2 + 3j)\n",
        "\n",
        "#Accessing Real and imaginary part complex Numbers\n",
        "y = n.real\n",
        "x = n.imag\n",
        "\n",
        "print(x)\n",
        "print(y)\n",
        "\n",
        "print(a)\n",
        "print(b)\n",
        "print(c)\n",
        "\n",
        "print(g)\n",
        "print(h)\n",
        "print(i)\n",
        "\n",
        "print(l)\n",
        "print(m)\n"
      ],
      "metadata": {
        "colab": {
          "base_uri": "https://localhost:8080/"
        },
        "id": "YgZG7nMGAMXM",
        "outputId": "7084f325-fbe9-4b4d-8a7d-feb019aa4424"
      },
      "execution_count": null,
      "outputs": [
        {
          "output_type": "stream",
          "name": "stdout",
          "text": [
            "3.0\n",
            "2.0\n",
            "1.0\n",
            "2.0\n",
            "3.0\n",
            "1\n",
            "1\n",
            "1\n",
            "1j\n",
            "2j\n"
          ]
        }
      ]
    },
    {
      "cell_type": "markdown",
      "source": [],
      "metadata": {
        "id": "Tn8CxeNAHimK"
      }
    },
    {
      "cell_type": "markdown",
      "source": [
        "**Task 03**\n",
        "\n",
        "Assign Multiple strings to single variable with your name, registration number, program and semester"
      ],
      "metadata": {
        "id": "ngSptVirHppg"
      }
    },
    {
      "cell_type": "code",
      "source": [
        "string = \"\"\"Name: Abdul Moiz Arsalan\n",
        "Registration Number: B22F1086AI072\n",
        "Department: IT and Computer Science\n",
        "Program: BS AI\n",
        "Semester: 4\"\"\"\n",
        "\n",
        "#printing string\n",
        "print(string)"
      ],
      "metadata": {
        "colab": {
          "base_uri": "https://localhost:8080/"
        },
        "id": "CD5QVXznD8vO",
        "outputId": "85e718a9-b020-4f80-e7f7-e9e296b65be9"
      },
      "execution_count": null,
      "outputs": [
        {
          "output_type": "stream",
          "name": "stdout",
          "text": [
            "Name: Abdul Moiz Arsalan\n",
            "Registration Number: B22F1086AI072\n",
            "Department: IT and Computer Science\n",
            "Program: BS AI\n",
            "Semester: 4\n"
          ]
        }
      ]
    },
    {
      "cell_type": "markdown",
      "source": [
        "**Task 04**\n",
        "\n",
        "Write your country name and access the last three characters\n",
        "\n",
        "In this program we have used str[] in brackets we will give the index value in ratio, for example str[5:8].\n",
        "\n",
        "Here 5 and 8 are the index value. \"Note that the 8 will not be printed in the the index value before 8 will be printed as last.\""
      ],
      "metadata": {
        "id": "cZgLmPpXImdT"
      }
    },
    {
      "cell_type": "code",
      "source": [
        "str = \"Pakistan\"\n",
        "\n",
        "print(str[5:8])\n"
      ],
      "metadata": {
        "colab": {
          "base_uri": "https://localhost:8080/"
        },
        "id": "qGlOT92tIyul",
        "outputId": "7312d5ff-dcdf-40bb-eed8-a47bbac84325"
      },
      "execution_count": null,
      "outputs": [
        {
          "output_type": "stream",
          "name": "stdout",
          "text": [
            "tan\n"
          ]
        }
      ]
    },
    {
      "cell_type": "markdown",
      "source": [
        "**Task 05**\n",
        "\n",
        "Write a code and observe using len() function it count spaces or not"
      ],
      "metadata": {
        "id": "GUQrhb0uLnhI"
      }
    },
    {
      "cell_type": "code",
      "source": [
        "# Define a string containing spaces\n",
        "str = \"My name is Abdul Moiz Arsalan\"\n",
        "\n",
        "# Count the length of the string\n",
        "str_length = len(str)\n",
        "\n",
        "# Print the length\n",
        "print(\"Length of the string:\", str_length)"
      ],
      "metadata": {
        "colab": {
          "base_uri": "https://localhost:8080/"
        },
        "id": "-XLIvMU4MOpK",
        "outputId": "249d2ccd-736f-4b44-93c7-1201e91348a1"
      },
      "execution_count": 3,
      "outputs": [
        {
          "output_type": "stream",
          "name": "stdout",
          "text": [
            "Length of the string: 29\n"
          ]
        }
      ]
    },
    {
      "cell_type": "markdown",
      "source": [
        "Task 06\n",
        "\n",
        "Write code to access 2nd and 3rd character of your name using negative indexes"
      ],
      "metadata": {
        "id": "bpiI8f9HK2Aw"
      }
    },
    {
      "cell_type": "code",
      "source": [
        "b = \"Moiz\"\n",
        "\n",
        "print(b[-3:-1])"
      ],
      "metadata": {
        "colab": {
          "base_uri": "https://localhost:8080/"
        },
        "id": "QMRhZ49pLBp-",
        "outputId": "fb803005-01f4-4641-cbd8-a3ccbebcf948"
      },
      "execution_count": null,
      "outputs": [
        {
          "output_type": "stream",
          "name": "stdout",
          "text": [
            "oi\n"
          ]
        }
      ]
    },
    {
      "cell_type": "markdown",
      "source": [
        "Task 07\n",
        "\n",
        "Write python code in which you pass index number to format() function and arguments must be 4 and same code without indexes."
      ],
      "metadata": {
        "id": "uy6xS5NvMX_s"
      }
    },
    {
      "cell_type": "code",
      "source": [
        "# With index numbers\n",
        "index_format_string = \"The {0} {1} {2} {3}\"\n",
        "formatted_with_index = index_format_string.format(0, \"brown\", \"fox\", \"jumps\")\n",
        "print(\"Formatted with indexes:\", formatted_with_index)\n",
        "\n",
        "# Without index numbers\n",
        "no_index_format_string = \"The {} {} {} {}\"\n",
        "formatted_without_index = no_index_format_string.format(0, \"brown\", \"fox\", \"jumps\")\n",
        "print(\"Formatted without indexes:\", formatted_without_index)\n"
      ],
      "metadata": {
        "colab": {
          "base_uri": "https://localhost:8080/"
        },
        "id": "N02KxVPLM01Y",
        "outputId": "413cd2d4-7655-4325-bb16-4c8b8d6a9fb3"
      },
      "execution_count": null,
      "outputs": [
        {
          "output_type": "stream",
          "name": "stdout",
          "text": [
            "Formatted with indexes: The 0 brown fox jumps\n",
            "Formatted without indexes: The 0 brown fox jumps\n"
          ]
        }
      ]
    },
    {
      "cell_type": "markdown",
      "source": [
        "Task 08\n",
        "\n",
        "Take input from user and  than display it like “John age is: age”"
      ],
      "metadata": {
        "id": "0zaOv4maM3J9"
      }
    },
    {
      "cell_type": "code",
      "source": [
        "# Take input from the user\n",
        "name = input(\"Enter your name: \")\n",
        "age = input(\"Enter your age: \")\n",
        "\n",
        "# Display the input in the specified format\n",
        "print(\"{}'s age is: {}\".format(name, age))\n"
      ],
      "metadata": {
        "colab": {
          "base_uri": "https://localhost:8080/"
        },
        "id": "4aWA-itHM95H",
        "outputId": "a9ecc01c-619d-4767-f917-9f7312be8530"
      },
      "execution_count": null,
      "outputs": [
        {
          "output_type": "stream",
          "name": "stdout",
          "text": [
            "Enter your name: Moiz\n",
            "Enter your age: 20\n",
            "Moiz's age is: 20\n"
          ]
        }
      ]
    }
  ]
}