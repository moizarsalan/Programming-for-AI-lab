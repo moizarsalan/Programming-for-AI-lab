{
  "nbformat": 4,
  "nbformat_minor": 0,
  "metadata": {
    "colab": {
      "provenance": [],
      "authorship_tag": "ABX9TyMNaNH5l6++OtSJHtpjf3DQ",
      "include_colab_link": true
    },
    "kernelspec": {
      "name": "python3",
      "display_name": "Python 3"
    },
    "language_info": {
      "name": "python"
    }
  },
  "cells": [
    {
      "cell_type": "markdown",
      "metadata": {
        "id": "view-in-github",
        "colab_type": "text"
      },
      "source": [
        "<a href=\"https://colab.research.google.com/github/moizarsalan/Programming-for-AI-lab/blob/Programming-for-AI-Lab-Tasks/Lab_11_Lists_in_Python.ipynb\" target=\"_parent\"><img src=\"https://colab.research.google.com/assets/colab-badge.svg\" alt=\"Open In Colab\"/></a>"
      ]
    },
    {
      "cell_type": "markdown",
      "source": [
        "# **Lab: 11**\n",
        "\n",
        "# **Lists in Python**\n",
        "\n",
        "# **Objectives**\n",
        "\n",
        "\n",
        "\n",
        "1.   Accessing List items\n",
        "2.   Change list items\n",
        "3.   List Indexing (Positive and Negative)\n",
        "4.   Remove List items\n",
        "5.   Loop lists\n",
        "6.   List comprehensions\n",
        "7.   Sort list\n",
        "8.   Copy list\n",
        "9.   Join list\n",
        "10.  List Methods\n",
        "11.  List Concatenation\n",
        "12.  Filtering and Sorting\n",
        "13.  List slicing and reversing\n",
        "\n"
      ],
      "metadata": {
        "id": "OBH4Zk3i4Fwk"
      }
    },
    {
      "cell_type": "markdown",
      "source": [
        "# **Lab Task: 01**\n",
        "\n",
        "**Accessing list items**\n",
        "\n",
        "\n",
        "\n",
        "*   Create a list of fruits\n",
        "*   Print first and last items of list\n",
        "\n",
        "\n"
      ],
      "metadata": {
        "id": "uJ9IPeaW4dGM"
      }
    },
    {
      "cell_type": "code",
      "execution_count": null,
      "metadata": {
        "colab": {
          "base_uri": "https://localhost:8080/"
        },
        "id": "3hkeuWON4Etb",
        "outputId": "85f88fbd-67f8-4729-bdbe-a30d0f11cdc1"
      },
      "outputs": [
        {
          "output_type": "stream",
          "name": "stdout",
          "text": [
            "First item: melon\n",
            "Last item: mango\n"
          ]
        }
      ],
      "source": [
        "fruits = [\"melon\", \"orange\", \"apple\", \"grape\", \"mango\"]\n",
        "print(\"First item:\", fruits[0])\n",
        "print(\"Last item:\", fruits[-1])\n"
      ]
    },
    {
      "cell_type": "markdown",
      "source": [
        "# **Lab Task: 02**\n",
        "\n",
        "**Change list items**\n",
        "\n",
        "* Create a list of colors.\n",
        "* Change the second item in the list to \"blue\".\n"
      ],
      "metadata": {
        "id": "pVTe1srY4iRT"
      }
    },
    {
      "cell_type": "code",
      "source": [
        "colors = [1, 2, 3, 4]\n",
        "colors[1] = \"7\"\n",
        "print(colors)"
      ],
      "metadata": {
        "colab": {
          "base_uri": "https://localhost:8080/"
        },
        "id": "k8lIntoP4mOc",
        "outputId": "bf724572-0dd4-4a74-d7aa-fa28f47fd2e0"
      },
      "execution_count": null,
      "outputs": [
        {
          "output_type": "stream",
          "name": "stdout",
          "text": [
            "[1, '7', 3, 4]\n"
          ]
        }
      ]
    },
    {
      "cell_type": "markdown",
      "source": [
        "# **Lab Task: 03**\n",
        "\n",
        "**List Indexing**\n",
        "\n",
        "\n",
        "\n",
        "1.   Positive Indexing: As we have seen that list items have index, as such we can access items using these indexes.\n",
        "2.   Negative Indexing: As we have seen that list items have index, as such we can access items using these indexes.\n",
        "    \n",
        "\n"
      ],
      "metadata": {
        "id": "-19yzBjFjUCl"
      }
    },
    {
      "cell_type": "code",
      "source": [
        "#Postive Indexing\n",
        "colors = [\"Red\", \"Green\", \"Blue\", \"Yellow\", \"Green\"]\n",
        "#          [0]      [1]     [2]      [3]      [4]\n",
        "print(colors[2])\n",
        "print(colors[4])\n",
        "print(colors[0])\n",
        "\n",
        "#Negative Indexing\n",
        "colors = [\"Red\", \"Green\", \"Blue\", \"Yellow\", \"Green\"]\n",
        "#[-5] [-4] [-3] [-2] [-1]\n",
        "print(colors[-1])\n",
        "print(colors[-3])\n",
        "print(colors[-4])"
      ],
      "metadata": {
        "id": "ZSvrYA1jjX7E"
      },
      "execution_count": null,
      "outputs": []
    },
    {
      "cell_type": "markdown",
      "source": [
        "# **Lab Task: 04**\n",
        "\n",
        "**Add list items**\n",
        "\n",
        "* Create a list of numbers.\n",
        "* Add the number 10 at the end of the list.\n"
      ],
      "metadata": {
        "id": "NxiOYecN4tEF"
      }
    },
    {
      "cell_type": "code",
      "source": [
        "numbers = [1, 2, 3, 4, 5]\n",
        "numbers.append(6)\n",
        "print(\"Updated list of numbers:\", numbers)\n"
      ],
      "metadata": {
        "colab": {
          "base_uri": "https://localhost:8080/"
        },
        "id": "CDmPvrtg4svu",
        "outputId": "7fffcc4e-1d23-425e-cc50-188bed8e8ed5"
      },
      "execution_count": null,
      "outputs": [
        {
          "output_type": "stream",
          "name": "stdout",
          "text": [
            "Updated list of numbers: [1, 2, 3, 4, 5, 6]\n"
          ]
        }
      ]
    },
    {
      "cell_type": "markdown",
      "source": [
        "# **Lab Task: 05**\n",
        "\n",
        "**Remove List items**\n",
        "\n",
        "* Create a list of animals.\n",
        "* Remove the third item from the list.\n"
      ],
      "metadata": {
        "id": "HKTQPcAB46fN"
      }
    },
    {
      "cell_type": "code",
      "source": [
        "animals = [1, 2, 3, 4]\n",
        "del animals[2]\n",
        "print(\"Updated list of animals:\", animals)\n"
      ],
      "metadata": {
        "colab": {
          "base_uri": "https://localhost:8080/"
        },
        "id": "jpK0_uB04_V8",
        "outputId": "3975c2c3-a033-4edb-9f19-b7876aaaa854"
      },
      "execution_count": null,
      "outputs": [
        {
          "output_type": "stream",
          "name": "stdout",
          "text": [
            "Updated list of animals: [1, 2, 4]\n"
          ]
        }
      ]
    },
    {
      "cell_type": "markdown",
      "source": [
        "# **Lab Task: 06**\n",
        "\n",
        "**Loop Lists**\n",
        "\n",
        "* Create a list of cities.\n",
        "* Loop through the list and print each city.\n"
      ],
      "metadata": {
        "id": "_QhlsG-n5EMF"
      }
    },
    {
      "cell_type": "code",
      "source": [
        "cities = [\"Haripur\", \"Abbottabad\", \"Mansehra\", \"Pindi\"]\n",
        "for city in cities:\n",
        "    print(city)\n"
      ],
      "metadata": {
        "colab": {
          "base_uri": "https://localhost:8080/"
        },
        "id": "FfkZuWka5Jdg",
        "outputId": "fecd942e-eaf8-41bd-cddf-2e132cf1ee21"
      },
      "execution_count": null,
      "outputs": [
        {
          "output_type": "stream",
          "name": "stdout",
          "text": [
            "Haripur\n",
            "Abbottabad\n",
            "Mansehra\n",
            "Pindi\n"
          ]
        }
      ]
    },
    {
      "cell_type": "markdown",
      "source": [
        "# **Lab Task: 07**\n",
        "\n",
        "**List Comprephesions**\n",
        "\n",
        "* Create a list of numbers from 1 to 10.\n",
        "* Use list comprehension to create a new list containing the square of each number.\n"
      ],
      "metadata": {
        "id": "ggAJOIXI5Ruo"
      }
    },
    {
      "cell_type": "code",
      "source": [
        "numbers = [1, 2, 3, 4, 5, 6, 7, 8, 9, 10]\n",
        "squared_numbers = [x**2 for x in numbers]\n",
        "print(squared_numbers)\n"
      ],
      "metadata": {
        "colab": {
          "base_uri": "https://localhost:8080/"
        },
        "id": "xz-SfofW5Wz0",
        "outputId": "3d4bdc9c-c4ca-4a67-97f7-e7eeebdd1a0a"
      },
      "execution_count": null,
      "outputs": [
        {
          "output_type": "stream",
          "name": "stdout",
          "text": [
            "[1, 4, 9, 16, 25, 36, 49, 64, 81, 100]\n"
          ]
        }
      ]
    },
    {
      "cell_type": "markdown",
      "source": [
        "# **Lab Task: 08**\n",
        "\n",
        "**Sort Lists**\n",
        "\n",
        "* Create a list of numbers from 1 to 10.\n",
        "* Use list comprehension to create a new list containing the square of each number.\n"
      ],
      "metadata": {
        "id": "f14WZOHF5dq-"
      }
    },
    {
      "cell_type": "code",
      "source": [
        "names = [\"Moiz\", \"Hamza\", \"Qasim\", \"Momin\"]\n",
        "names.sort()\n",
        "print(names)\n"
      ],
      "metadata": {
        "colab": {
          "base_uri": "https://localhost:8080/"
        },
        "id": "SWEIOgAA5iM0",
        "outputId": "c5010987-b9a9-4cae-d9e2-e35a7fdfc283"
      },
      "execution_count": null,
      "outputs": [
        {
          "output_type": "stream",
          "name": "stdout",
          "text": [
            "['Hamza', 'Moiz', 'Momin', 'Qasim']\n"
          ]
        }
      ]
    },
    {
      "cell_type": "markdown",
      "source": [
        "# **Lab Task: 09**\n",
        "\n",
        "**Copy Lists**\n",
        "\n",
        "* Create a list of fruits.\n",
        "* Copy the list into a new list.\n"
      ],
      "metadata": {
        "id": "ZqqN6wIF5lBi"
      }
    },
    {
      "cell_type": "code",
      "source": [
        "fruits = [1, 2, 3, 4, 5]\n",
        "copied_fruits = fruits.copy()\n",
        "print(copied_fruits)\n"
      ],
      "metadata": {
        "colab": {
          "base_uri": "https://localhost:8080/"
        },
        "id": "WXHkohkb5omO",
        "outputId": "0cc9c076-6225-4184-d01e-cec1bec2f0c8"
      },
      "execution_count": null,
      "outputs": [
        {
          "output_type": "stream",
          "name": "stdout",
          "text": [
            "[1, 2, 3, 4, 5]\n"
          ]
        }
      ]
    },
    {
      "cell_type": "markdown",
      "source": [
        "# **Lab Task: 10**\n",
        "\n",
        "**Join Lists**\n",
        "\n",
        "* Create two lists of numbers.\n",
        "* Join the two lists into a single list.\n"
      ],
      "metadata": {
        "id": "bPY3-59y5vG1"
      }
    },
    {
      "cell_type": "code",
      "source": [
        "a = [1, 2, 3]\n",
        "b = [4, 5, 6]\n",
        "c = a + b\n",
        "print(c)\n"
      ],
      "metadata": {
        "colab": {
          "base_uri": "https://localhost:8080/"
        },
        "id": "RUabVJj254QV",
        "outputId": "ab63823e-72b6-47e2-87ec-0821bbeacc42"
      },
      "execution_count": null,
      "outputs": [
        {
          "output_type": "stream",
          "name": "stdout",
          "text": [
            "[1, 2, 3, 4, 5, 6]\n"
          ]
        }
      ]
    },
    {
      "cell_type": "markdown",
      "source": [
        "# **Lab Task: 11**\n",
        "\n",
        "**Lists Method**\n",
        "\n",
        "* Create a list of fruits.\n",
        "* Use the append() method to add a new fruit to the list.\n",
        "* Use the pop() method to remove the last fruit from the list.\n"
      ],
      "metadata": {
        "id": "eowcwZFx56hs"
      }
    },
    {
      "cell_type": "code",
      "source": [
        "a = [1, 2, 3]\n",
        "a.append(2)\n",
        "print(a)\n",
        "a.pop()\n",
        "print(a)\n"
      ],
      "metadata": {
        "colab": {
          "base_uri": "https://localhost:8080/"
        },
        "id": "S1qm-I6f6Ahh",
        "outputId": "e19d2d79-bb15-4cf4-846d-475d1758ec5f"
      },
      "execution_count": null,
      "outputs": [
        {
          "output_type": "stream",
          "name": "stdout",
          "text": [
            "[1, 2, 3, 2]\n",
            "[1, 2, 3]\n"
          ]
        }
      ]
    },
    {
      "cell_type": "markdown",
      "source": [
        "# **Lab Task: 12**\n",
        "\n",
        "**Combining list and list comprehensions**\n",
        "\n",
        "* Create two lists, one containing numbers from 1 to 5 and another containing numbers from 6 to 10.\n",
        "* Use list comprehension to create a new list that contains the sum of corresponding elements from the two lists.\n"
      ],
      "metadata": {
        "id": "DUsN7Mul6KIk"
      }
    },
    {
      "cell_type": "code",
      "source": [
        "a = [1, 2, 3, 4, 5]\n",
        "b = [6, 7, 8, 9, 10]\n",
        "c = [x + y for x, y in zip(a, b)]\n",
        "print(c)"
      ],
      "metadata": {
        "colab": {
          "base_uri": "https://localhost:8080/"
        },
        "id": "BKRXoJVX6RDn",
        "outputId": "8a240e95-9c6b-46ba-800e-5b2c6ad2c7dc"
      },
      "execution_count": null,
      "outputs": [
        {
          "output_type": "stream",
          "name": "stdout",
          "text": [
            "[7, 9, 11, 13, 15]\n"
          ]
        }
      ]
    },
    {
      "cell_type": "markdown",
      "source": [
        "# **Lab Task: 13**\n",
        "\n",
        "**Filtering and sorting of List**\n",
        "\n",
        "* Create a list of numbers.\n",
        "* Use list comprehension to create a new list containing only the even numbers from the original list.\n",
        "* Sort the new list in descending order.\n"
      ],
      "metadata": {
        "id": "HtUG5PUa6VFG"
      }
    },
    {
      "cell_type": "code",
      "source": [
        "numbers = [3, 6, 8, 1, 4, 9, 2, 5, 7]\n",
        "even_num = [x for x in numbers if x % 2 == 0]\n",
        "even_num.sort(reverse=True)\n",
        "print(even_num)"
      ],
      "metadata": {
        "colab": {
          "base_uri": "https://localhost:8080/"
        },
        "id": "0sqoja3g6aqU",
        "outputId": "b6bd02f9-f13d-4680-f4ad-2023833e16db"
      },
      "execution_count": null,
      "outputs": [
        {
          "output_type": "stream",
          "name": "stdout",
          "text": [
            "[8, 6, 4, 2]\n"
          ]
        }
      ]
    },
    {
      "cell_type": "markdown",
      "source": [
        "# **Lab Task: 14**\n",
        "\n",
        "**List slicing and Reversing**\n",
        "\n",
        "* Create a list of numbers from 1 to 10.\n",
        "* Use list slicing to create a new list containing only the even numbers from the original list, in reverse order.\n"
      ],
      "metadata": {
        "id": "5HeL2ruS6dGH"
      }
    },
    {
      "cell_type": "code",
      "source": [
        "num = list(range(1, 11))\n",
        "even_num_reverse = numbers[1::2][::-1]\n",
        "print(even_num_reverse)\n"
      ],
      "metadata": {
        "colab": {
          "base_uri": "https://localhost:8080/"
        },
        "id": "7yqJ47Xu6lSG",
        "outputId": "ff549b28-182c-4f0e-e85b-9883c0508636"
      },
      "execution_count": null,
      "outputs": [
        {
          "output_type": "stream",
          "name": "stdout",
          "text": [
            "[5, 9, 1, 6]\n"
          ]
        }
      ]
    },
    {
      "cell_type": "markdown",
      "source": [
        "# **Lab Task: 15**\n",
        "\n",
        "**Combinging lists and lists method**\n",
        "\n",
        "* Create two lists, one containing even numbers and another containing odd numbers.\n",
        "* Use list methods to combine the two lists into a single list, alternating between even and odd numbers.\n"
      ],
      "metadata": {
        "id": "yk-oKSdQ6n5d"
      }
    },
    {
      "cell_type": "code",
      "source": [
        "even_num = [2, 4, 6, 8, 10]\n",
        "odd_num  = [1, 3, 5, 7, 9]\n",
        "\n",
        "combined_list = [num for pair in zip(even_num, odd_num) for num in pair]\n",
        "\n",
        "print(combined_list)\n",
        "\n"
      ],
      "metadata": {
        "colab": {
          "base_uri": "https://localhost:8080/"
        },
        "id": "3_1BOcFY6-LQ",
        "outputId": "cdf251a4-0c9d-4d0d-948f-1db91ea91dbc"
      },
      "execution_count": null,
      "outputs": [
        {
          "output_type": "stream",
          "name": "stdout",
          "text": [
            "[2, 1, 4, 3, 6, 5, 8, 7, 10, 9]\n"
          ]
        }
      ]
    }
  ]
}