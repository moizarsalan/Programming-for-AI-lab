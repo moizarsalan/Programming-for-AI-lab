{
  "nbformat": 4,
  "nbformat_minor": 0,
  "metadata": {
    "colab": {
      "provenance": [],
      "gpuType": "T4",
      "authorship_tag": "ABX9TyMWfHyHWXreudrjih3b3wRK",
      "include_colab_link": true
    },
    "kernelspec": {
      "name": "python3",
      "display_name": "Python 3"
    },
    "language_info": {
      "name": "python"
    },
    "accelerator": "GPU"
  },
  "cells": [
    {
      "cell_type": "markdown",
      "metadata": {
        "id": "view-in-github",
        "colab_type": "text"
      },
      "source": [
        "<a href=\"https://colab.research.google.com/github/moizarsalan/Programming-for-AI-lab/blob/main/Lab_01.ipynb\" target=\"_parent\"><img src=\"https://colab.research.google.com/assets/colab-badge.svg\" alt=\"Open In Colab\"/></a>"
      ]
    },
    {
      "cell_type": "code",
      "execution_count": null,
      "metadata": {
        "id": "MXI3r05Y0ptr"
      },
      "outputs": [],
      "source": []
    },
    {
      "cell_type": "markdown",
      "source": [
        "2.\tExplore all kinds /data types of variables. And  write code for each datatype.\n",
        "                                                  # Integer variable\n",
        "                                                  # Floating-point variable\n",
        "                                                  # String variable\n",
        "                                                   # Boolean variable\n"
      ],
      "metadata": {
        "id": "HfmQ8UJkZCU9"
      }
    },
    {
      "cell_type": "code",
      "source": [
        "# Integer Variable\n",
        "a = 10\n",
        "print(a)\n",
        "print(\"Type of a:\", type(a))\n"
      ],
      "metadata": {
        "colab": {
          "base_uri": "https://localhost:8080/"
        },
        "id": "uN9jCu0Y0tak",
        "outputId": "fdc6baa9-9d21-46f1-a01a-d5f2d13885ad"
      },
      "execution_count": null,
      "outputs": [
        {
          "output_type": "stream",
          "name": "stdout",
          "text": [
            "10\n",
            "Type of a: <class 'int'>\n"
          ]
        }
      ]
    },
    {
      "cell_type": "code",
      "source": [
        "# Floating Point Variable\n",
        "b = 3.14\n",
        "print(b)\n",
        "print(\"Type of b:\", type(b))"
      ],
      "metadata": {
        "colab": {
          "base_uri": "https://localhost:8080/"
        },
        "id": "uJFnJBkZ3Wik",
        "outputId": "4c784b7e-8217-4b76-fd56-ec1102f7e389"
      },
      "execution_count": null,
      "outputs": [
        {
          "output_type": "stream",
          "name": "stdout",
          "text": [
            "3.14\n",
            "Type of b: <class 'float'>\n"
          ]
        }
      ]
    },
    {
      "cell_type": "code",
      "source": [
        "# String Variable\n",
        "c = \"Hello, World!\"\n",
        "print(c)\n",
        "print(\"Type of c:\", type(c))"
      ],
      "metadata": {
        "colab": {
          "base_uri": "https://localhost:8080/"
        },
        "id": "1m0VAVpy3u_K",
        "outputId": "f283f891-2e1e-4061-d01a-0d7fb2685360"
      },
      "execution_count": null,
      "outputs": [
        {
          "output_type": "stream",
          "name": "stdout",
          "text": [
            "Hello, World!\n",
            "Type of c: <class 'str'>\n"
          ]
        }
      ]
    },
    {
      "cell_type": "code",
      "source": [
        "# Boolean Variable\n",
        "d = True\n",
        "print(d)\n",
        "print(\"Type of d:\", type(True))"
      ],
      "metadata": {
        "colab": {
          "base_uri": "https://localhost:8080/"
        },
        "id": "OlCEfzaL4F_C",
        "outputId": "05e41f0d-2883-447d-a9a7-7cbe6af28d79"
      },
      "execution_count": null,
      "outputs": [
        {
          "output_type": "stream",
          "name": "stdout",
          "text": [
            "True\n",
            "Type of d: <class 'bool'>\n"
          ]
        }
      ]
    },
    {
      "cell_type": "markdown",
      "source": [
        "4.\tDeclare and initialize multiple variables in a single line . Single variable with multiple values , multiple variables with single values. Each having at least two examples"
      ],
      "metadata": {
        "id": "AGpiP9UiZNtc"
      }
    },
    {
      "cell_type": "code",
      "source": [
        "#Single Variable with Multiple values\n",
        "a, b, c = 1, 2, 3\n",
        "x, y, z = \"apple\", \"banana\", \"cherry\"\n",
        "print(a, b, c)\n",
        "print(x + y + z)#In case of positive sign there will be no space in between words, letter or numbers\n"
      ],
      "metadata": {
        "colab": {
          "base_uri": "https://localhost:8080/"
        },
        "id": "jf0J5WXH_69f",
        "outputId": "c9f705d9-0fda-4f53-f25d-7b9a9a85b82e"
      },
      "execution_count": null,
      "outputs": [
        {
          "output_type": "stream",
          "name": "stdout",
          "text": [
            "1 2 3\n",
            "applebananacherry\n"
          ]
        }
      ]
    },
    {
      "cell_type": "code",
      "source": [
        "#Multiple Variables with single values\n",
        "d = e = f = 10\n",
        "g = h = i = \"hello\"\n",
        "print(d, e, f)\n",
        "print(g)"
      ],
      "metadata": {
        "colab": {
          "base_uri": "https://localhost:8080/"
        },
        "id": "gsifMf-HAbDp",
        "outputId": "d6e54790-464f-4fc2-ddf3-612994e30b22"
      },
      "execution_count": null,
      "outputs": [
        {
          "output_type": "stream",
          "name": "stdout",
          "text": [
            "10 10 10\n",
            "hello\n"
          ]
        }
      ]
    },
    {
      "cell_type": "markdown",
      "source": [
        ".    Perform arithmetic operations on integers and floating-point numbers\n",
        "                                         # Adding, Subtracting, Multiplication and dividing two integer variables\n"
      ],
      "metadata": {
        "id": "PuL5ymW-ZQNA"
      }
    },
    {
      "cell_type": "code",
      "source": [
        "#Aritmatic operation using integer data Type\n",
        "\n",
        "num1 = 10\n",
        "num2 = 5\n",
        "addition = num1 + num2\n",
        "subtraction = num1 - num2\n",
        "multiplication = num1 * num2\n",
        "division = num1 / num2\n",
        "\n",
        "print(\"Addition:\", addition)\n",
        "print(\"Subtraction:\", subtraction)\n",
        "print(\"Multiplication:\", multiplication)\n",
        "print(\"Division:\", division)"
      ],
      "metadata": {
        "colab": {
          "base_uri": "https://localhost:8080/"
        },
        "id": "6Rq7lhvEA1En",
        "outputId": "dde7c16f-ce96-4a66-9074-3daddb221cf6"
      },
      "execution_count": null,
      "outputs": [
        {
          "output_type": "stream",
          "name": "stdout",
          "text": [
            "Addition: 15\n",
            "Subtraction: 5\n",
            "Multiplication: 50\n",
            "Division: 2.0\n"
          ]
        }
      ]
    },
    {
      "cell_type": "code",
      "source": [
        "#Aritmatic operation using Float Data Type\n",
        "\n",
        "float1 = 3.5\n",
        "float2 = 2.0\n",
        "addition_float = float1 + float2\n",
        "subtraction_float = float1 - float2\n",
        "multiplication_float = float1 * float2\n",
        "division_float = float1 / float2\n",
        "\n",
        "print(\"Addition:\", addition_float)\n",
        "print(\"Subtraction:\", subtraction_float)\n",
        "print(\"Multiplication:\", multiplication_float)\n",
        "print(\"Division:\", division_float)"
      ],
      "metadata": {
        "colab": {
          "base_uri": "https://localhost:8080/"
        },
        "id": "iIiEWY96BRKt",
        "outputId": "05a3d895-8b55-4bc5-9e0f-eedf9a0e81a0"
      },
      "execution_count": null,
      "outputs": [
        {
          "output_type": "stream",
          "name": "stdout",
          "text": [
            "Addition: 5.5\n",
            "Subtraction: 1.5\n",
            "Multiplication: 7.0\n",
            "Division: 1.75\n"
          ]
        }
      ]
    },
    {
      "cell_type": "markdown",
      "source": [
        "6.\tA string literal is a sequence of characters enclosed in quotes. In Python, we can use either single quotes (‘…’) or double quotes (“…”) to create a string"
      ],
      "metadata": {
        "id": "jj_YAPERZXBD"
      }
    },
    {
      "cell_type": "code",
      "source": [
        "#Methods of using string or string literals\n",
        "\n",
        "# Using single quotes\n",
        "x = 'Hello, World!'\n",
        "# Using double quotes\n",
        "y = \"Hello, World!\"\n",
        "# Using double quotes when the string contains a single quote\n",
        "z = \"It's a beautiful day.\"\n",
        "# Using single quotes when the string contains double quotes\n",
        "w = 'She said, \"Hello!\"'\n",
        "\n",
        "print(x)\n",
        "print(y)\n",
        "print(z)\n",
        "print(w)"
      ],
      "metadata": {
        "colab": {
          "base_uri": "https://localhost:8080/"
        },
        "id": "kDu_eTtDBqCh",
        "outputId": "f830bd98-5d72-4d96-a5d8-832603d18166"
      },
      "execution_count": null,
      "outputs": [
        {
          "output_type": "stream",
          "name": "stdout",
          "text": [
            "Hello, World!\n",
            "Hello, World!\n",
            "It's a beautiful day.\n",
            "She said, \"Hello!\"\n"
          ]
        }
      ]
    }
  ]
}