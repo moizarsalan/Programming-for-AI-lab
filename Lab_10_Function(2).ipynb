{
  "nbformat": 4,
  "nbformat_minor": 0,
  "metadata": {
    "colab": {
      "provenance": [],
      "authorship_tag": "ABX9TyMniRxTNoIaYUhpzZPzZJRk",
      "include_colab_link": true
    },
    "kernelspec": {
      "name": "python3",
      "display_name": "Python 3"
    },
    "language_info": {
      "name": "python"
    }
  },
  "cells": [
    {
      "cell_type": "markdown",
      "metadata": {
        "id": "view-in-github",
        "colab_type": "text"
      },
      "source": [
        "<a href=\"https://colab.research.google.com/github/moizarsalan/Programming-for-AI-lab/blob/Programming-for-AI-Lab-Tasks/Lab_10_Function(2).ipynb\" target=\"_parent\"><img src=\"https://colab.research.google.com/assets/colab-badge.svg\" alt=\"Open In Colab\"/></a>"
      ]
    },
    {
      "cell_type": "markdown",
      "source": [
        "# **Lab_10**\n",
        "**Function in Python(2)**\n",
        "\n",
        "**Lab Objectives**\n",
        "\n",
        "\n",
        "*   Use of Functions\n",
        "*   Passing Arguments\n",
        "\n"
      ],
      "metadata": {
        "id": "aB_jT7SPUYKU"
      }
    },
    {
      "cell_type": "markdown",
      "source": [
        "# **Lab Task: 01**"
      ],
      "metadata": {
        "id": "KSgmWNIznP7b"
      }
    },
    {
      "cell_type": "code",
      "execution_count": 1,
      "metadata": {
        "colab": {
          "base_uri": "https://localhost:8080/"
        },
        "id": "zLyXhNrNOK65",
        "outputId": "06f7eb47-6392-4866-fbf8-65ea79a75331"
      },
      "outputs": [
        {
          "output_type": "stream",
          "name": "stdout",
          "text": [
            "w\n",
            " \n"
          ]
        }
      ],
      "source": [
        "big = max (\"Hello wordl\")\n",
        "print (big)\n",
        "\n",
        "tiny = min (\"Hello wordl\")\n",
        "print (tiny)\n"
      ]
    },
    {
      "cell_type": "markdown",
      "source": [
        "# **Lab Task: 02**"
      ],
      "metadata": {
        "id": "DIPoDX3rnWYd"
      }
    },
    {
      "cell_type": "code",
      "source": [
        "def thing():\n",
        "  print ('Hello')\n",
        "  print ('Fun')\n",
        "\n",
        "thing ()\n",
        "print ('Zip')\n",
        "thing()"
      ],
      "metadata": {
        "colab": {
          "base_uri": "https://localhost:8080/"
        },
        "id": "6x-EG0epWzag",
        "outputId": "e3d13cc9-79b6-4cda-c568-8f4c10c675f4"
      },
      "execution_count": 2,
      "outputs": [
        {
          "output_type": "stream",
          "name": "stdout",
          "text": [
            "Hello\n",
            "Fun\n",
            "Zip\n",
            "Hello\n",
            "Fun\n"
          ]
        }
      ]
    },
    {
      "cell_type": "markdown",
      "source": [
        "# **Lab Task: 03**"
      ],
      "metadata": {
        "id": "ClCBaLtVnaZm"
      }
    },
    {
      "cell_type": "code",
      "source": [
        "x = 5\n",
        "print ('Hello')\n",
        "\n",
        "def print_lyrics():\n",
        "  print (\"I am a lumberjack, and I am okay\")\n",
        "  print (\"I sleep all night and I work all day\")\n",
        "\n",
        "print ('Yo')\n",
        "x = x + 2\n",
        "print (x)"
      ],
      "metadata": {
        "colab": {
          "base_uri": "https://localhost:8080/"
        },
        "id": "Fj30qzG_XPpG",
        "outputId": "abe82579-b447-4024-9e8f-7aae2622d91b"
      },
      "execution_count": 3,
      "outputs": [
        {
          "output_type": "stream",
          "name": "stdout",
          "text": [
            "Hello\n",
            "Yo\n",
            "7\n"
          ]
        }
      ]
    },
    {
      "cell_type": "markdown",
      "source": [
        "# **Lab Task: 04**"
      ],
      "metadata": {
        "id": "JPBegRdkndzj"
      }
    },
    {
      "cell_type": "code",
      "source": [
        "def greet():\n",
        "  return 'Hello'\n",
        "\n",
        "  print (greet(), 'Moiz')\n",
        "  print (greet(), 'Hamza')\n",
        "greet()"
      ],
      "metadata": {
        "colab": {
          "base_uri": "https://localhost:8080/",
          "height": 36
        },
        "id": "PVinjbqAZ03W",
        "outputId": "9c1833eb-7bd1-42ff-a30f-a4bc99fb8cfc"
      },
      "execution_count": 15,
      "outputs": [
        {
          "output_type": "execute_result",
          "data": {
            "text/plain": [
              "'Hello'"
            ],
            "application/vnd.google.colaboratory.intrinsic+json": {
              "type": "string"
            }
          },
          "metadata": {},
          "execution_count": 15
        }
      ]
    },
    {
      "cell_type": "markdown",
      "source": [
        "# **Lab Task 05**"
      ],
      "metadata": {
        "id": "E6guB2hmnh2H"
      }
    },
    {
      "cell_type": "code",
      "source": [
        "def greet (lang):\n",
        "  if lang == 'es':\n",
        "    return 'Hola'\n",
        "  elif lang == 'fr':\n",
        "    return 'Bonjour'\n",
        "  else:\n",
        "    return 'Hello'\n",
        "\n",
        "print (greet('en'), 'Moiz')\n",
        "print (greet('es'), 'Moiz')\n",
        "print (greet('fr'), 'Moiz')\n",
        "\n"
      ],
      "metadata": {
        "colab": {
          "base_uri": "https://localhost:8080/"
        },
        "id": "aQvE1xfubCnk",
        "outputId": "1b9c28fc-95cb-4629-8833-27940bc83822"
      },
      "execution_count": 14,
      "outputs": [
        {
          "output_type": "stream",
          "name": "stdout",
          "text": [
            "Hello Moiz\n",
            "Hola Moiz\n",
            "Bonjour Moiz\n"
          ]
        }
      ]
    },
    {
      "cell_type": "markdown",
      "source": [
        "# **Lab Task: 06**"
      ],
      "metadata": {
        "id": "SkRjAxsvnlsN"
      }
    },
    {
      "cell_type": "code",
      "source": [
        "def add (a, b):\n",
        "  added = a + b\n",
        "  return added\n",
        "\n",
        "x = add (3,5)\n",
        "print (x)"
      ],
      "metadata": {
        "colab": {
          "base_uri": "https://localhost:8080/"
        },
        "id": "f4_HLqn-bwMk",
        "outputId": "2a3290d9-f30b-4e3a-c3e8-ff8b47310d91"
      },
      "execution_count": 16,
      "outputs": [
        {
          "output_type": "stream",
          "name": "stdout",
          "text": [
            "8\n"
          ]
        }
      ]
    },
    {
      "cell_type": "code",
      "source": [],
      "metadata": {
        "id": "Rx2RIZEMcOzQ"
      },
      "execution_count": null,
      "outputs": []
    }
  ]
}