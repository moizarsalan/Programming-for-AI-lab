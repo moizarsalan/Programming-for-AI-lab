{
  "nbformat": 4,
  "nbformat_minor": 0,
  "metadata": {
    "colab": {
      "provenance": [],
      "authorship_tag": "ABX9TyMM2GWE84B0bgGc+/cfV9CE",
      "include_colab_link": true
    },
    "kernelspec": {
      "name": "python3",
      "display_name": "Python 3"
    },
    "language_info": {
      "name": "python"
    }
  },
  "cells": [
    {
      "cell_type": "markdown",
      "metadata": {
        "id": "view-in-github",
        "colab_type": "text"
      },
      "source": [
        "<a href=\"https://colab.research.google.com/github/moizarsalan/Programming-for-AI-lab/blob/Programming-for-AI-Lab-Tasks/Assignment_no_2.ipynb\" target=\"_parent\"><img src=\"https://colab.research.google.com/assets/colab-badge.svg\" alt=\"Open In Colab\"/></a>"
      ]
    },
    {
      "cell_type": "markdown",
      "source": [
        "# **Question no 1**\n",
        "\n",
        "Write a Python program to simulate a simple ATM machine. The program should prompt the user to enter their PIN. If the PIN is correct (assume the PIN is '1234'), the program should display a menu with opƟons to withdraw money, deposit money, or check balance. If the PIN is incorrect, the program should display a message \"Incorrect PIN\" and terminate.\n",
        "\n",
        "\n",
        "\n",
        "*   If any of the three numbers are greater than the sum of the other two, the triangle is not valid.\n",
        "\n",
        "*   If all three numbers are equal, the triangle is equilateral.\n",
        "*   If two numbers are equal, the triangle is isosceles.\n",
        "\n",
        "\n",
        "*   If none of the above condiƟons hold, the triangle is scalene.\n",
        "\n"
      ],
      "metadata": {
        "id": "0khKqAdmiXhV"
      }
    },
    {
      "cell_type": "code",
      "execution_count": 3,
      "metadata": {
        "colab": {
          "base_uri": "https://localhost:8080/"
        },
        "id": "j2MuNOQnhAoQ",
        "outputId": "8a13a840-165e-4f18-f20b-10b24320d858"
      },
      "outputs": [
        {
          "output_type": "stream",
          "name": "stdout",
          "text": [
            "Enter the length of the first side: 1\n",
            "Enter the length of the second side: 2\n",
            "Enter the length of the third side: 3\n",
            "These sides cannot form a triangle.\n"
          ]
        }
      ],
      "source": [
        "a = float(input(\"Enter the length of the first side: \"))\n",
        "b = float(input(\"Enter the length of the second side: \"))\n",
        "c = float(input(\"Enter the length of the third side: \"))\n",
        "\n",
        "if a + b > c and a + c > b and b + c > a:\n",
        "    if a == b == c:\n",
        "        print(\"These sides can form an equilateral triangle.\")\n",
        "    elif a == b or b == c or a == c:\n",
        "        print(\"These sides can form an isosceles triangle.\")\n",
        "    else:\n",
        "        print(\"These sides can form a scalene triangle.\")\n",
        "else:\n",
        "    print(\"These sides cannot form a triangle.\")\n"
      ]
    },
    {
      "cell_type": "markdown",
      "source": [
        "# **Question no 2**\n",
        "Write a Python program to simulate a simple ATM machine. The program should prompt the user to enter their PIN. If the PIN is correct (assume the PIN is '1234'), the program should display a menu with opƟons to withdraw money, deposit money, or check balance. If the PIN is incorrect, the program should display a message \"Incorrect PIN\" and terminate."
      ],
      "metadata": {
        "id": "0RdrZTblllSH"
      }
    },
    {
      "cell_type": "code",
      "source": [
        "PIN = '1234'\n",
        "balance = 1000  # Initial balance\n",
        "\n",
        "pin_attempt = input(\"Enter your PIN: \")\n",
        "\n",
        "if pin_attempt == PIN:\n",
        "    print(\"PIN accepted. Welcome to the ATM.\")\n",
        "    while True:\n",
        "        print(\"\\nMenu:\")\n",
        "        print(\"1. Withdraw money\")\n",
        "        print(\"2. Deposit money\")\n",
        "        print(\"3. Check balance\")\n",
        "        print(\"4. Quit\")\n",
        "\n",
        "        choice = input(\"Enter your choice (1-4): \")\n",
        "\n",
        "        if choice == '1':\n",
        "            amount = float(input(\"Enter the amount to withdraw: \"))\n",
        "            if amount <= balance:\n",
        "                balance -= amount\n",
        "                print(f\"Withdrawing {amount}$. Remaining balance: {balance}$\")\n",
        "            else:\n",
        "                print(\"Insufficient funds.\")\n",
        "        elif choice == '2':\n",
        "            amount = float(input(\"Enter the amount to deposit: \"))\n",
        "            balance += amount\n",
        "            print(f\"Depositing {amount}$. New balance: {balance}$\")\n",
        "        elif choice == '3':\n",
        "            print(f\"Your current balance is {balance}$.\")\n",
        "        elif choice == '4':\n",
        "            print(\"Thank you for using the ATM. Goodbye!\")\n",
        "            break\n",
        "        else:\n",
        "            print(\"Invalid choice. Please enter a number between 1 and 4.\")\n",
        "else:\n",
        "    print(\"Incorrect PIN. Access denied.\")\n"
      ],
      "metadata": {
        "colab": {
          "base_uri": "https://localhost:8080/"
        },
        "id": "XcALS7SRiylM",
        "outputId": "d1ef86f2-6eb0-4790-f133-b47b49a68a92"
      },
      "execution_count": 4,
      "outputs": [
        {
          "output_type": "stream",
          "name": "stdout",
          "text": [
            "Enter your PIN: 1234\n",
            "PIN accepted. Welcome to the ATM.\n",
            "\n",
            "Menu:\n",
            "1. Withdraw money\n",
            "2. Deposit money\n",
            "3. Check balance\n",
            "4. Quit\n",
            "Enter your choice (1-4): 1\n",
            "Enter the amount to withdraw: 900\n",
            "Withdrawing 900.0$. Remaining balance: 100.0$\n",
            "\n",
            "Menu:\n",
            "1. Withdraw money\n",
            "2. Deposit money\n",
            "3. Check balance\n",
            "4. Quit\n",
            "Enter your choice (1-4): 4\n",
            "Thank you for using the ATM. Goodbye!\n"
          ]
        }
      ]
    },
    {
      "cell_type": "markdown",
      "source": [
        "## **Question no 3**\n",
        "Consider the following expression:\n",
        "\n",
        "                       x = (a^2) + (b^2) / c - d\n",
        "\n",
        "\n",
        "Write a Python program that takes four integers a, b, c, and d as input and calculates the value of x using the given expression. Ensure that your program handles division by zero gracefully. Note: You need to draw flow chart for each quesƟon."
      ],
      "metadata": {
        "id": "V5XrxNqYl3MP"
      }
    },
    {
      "cell_type": "code",
      "source": [
        "def calculate_x(a, b, c, d):\n",
        "    try:\n",
        "        numerator = a**2 + b**2\n",
        "        denominator = (c - d)**2\n",
        "        x = numerator / denominator\n",
        "        return x\n",
        "    except ZeroDivisionError:\n",
        "        print(\"Error: Division by zero occurred. Please provide valid values for 'c' and 'd'.\")\n",
        "\n",
        "# Example usage:\n",
        "a = int(input(\"Enter the value of 'a': \"))\n",
        "b = int(input(\"Enter the value of 'b': \"))\n",
        "c = int(input(\"Enter the value of 'c': \"))\n",
        "d = int(input(\"Enter the value of 'd': \"))\n",
        "\n",
        "result = calculate_x(a, b, c, d)\n",
        "print(\"The value of 'x' is: \", result)\n"
      ],
      "metadata": {
        "colab": {
          "base_uri": "https://localhost:8080/"
        },
        "id": "s67XV9ODmTcC",
        "outputId": "d0500756-1ca9-42d1-b3c7-2a90eaf23a03"
      },
      "execution_count": 5,
      "outputs": [
        {
          "output_type": "stream",
          "name": "stdout",
          "text": [
            "Enter the value of 'a': 2\n",
            "Enter the value of 'b': 4\n",
            "Enter the value of 'c': 5\n",
            "Enter the value of 'd': 9\n",
            "The value of 'x' is:  1.25\n"
          ]
        }
      ]
    }
  ]
}